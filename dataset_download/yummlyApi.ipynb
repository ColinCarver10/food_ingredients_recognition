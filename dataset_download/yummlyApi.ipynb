{
 "cells": [
  {
   "cell_type": "code",
   "execution_count": 1,
   "metadata": {
    "collapsed": false
   },
   "outputs": [],
   "source": [
    "import json, requests\n",
    "import Levenshtein as lev\n",
    "import unicodedata\n",
    "import pandas as pd"
   ]
  },
  {
   "cell_type": "code",
   "execution_count": 2,
   "metadata": {
    "collapsed": false
   },
   "outputs": [],
   "source": [
    "\n",
    "ID = \"aaf20ac1\"\n",
    "key = \"7bd88c15c64569da8de3c414ace8d236\"\n",
    "\n",
    "baseURL = \"http://api.yummly.com/v1/api/recipes?_app_id=\"+ID+\"&_app_key=\"+key+\"&q=\""
   ]
  },
  {
   "cell_type": "code",
   "execution_count": 3,
   "metadata": {
    "collapsed": false
   },
   "outputs": [],
   "source": [
    "def convertName(name):\n",
    "    converted = unicodedata.normalize('NFKD', name).encode('ascii','ignore')\n",
    "    return converted.lower()\n",
    "\n",
    "def bestMatch(query, response):\n",
    "    tmpQuery = query.lower()\n",
    "    levDistances = [lev.distance(convertName(match[\"recipeName\"]), tmpQuery) for match in response[\"matches\"]]\n",
    "    return response[\"matches\"][levDistances.index(min(levDistances))]\n",
    "    "
   ]
  },
  {
   "cell_type": "code",
   "execution_count": 15,
   "metadata": {
    "collapsed": false
   },
   "outputs": [],
   "source": [
    "def searchFromList():\n",
    "    responses = []\n",
    "    foodList = pd.read_csv(\"dummyFood.csv\", sep=',')\n",
    "    for query in foodList['FoodName']:\n",
    "        params = query.lower().replace(\" \", \"+\")\n",
    "        url = baseURL+params+\"\"\n",
    "        response = json.loads(requests.get(url).text)\n",
    "        candidate = bestMatch(query, response)\n",
    "        candidate['ingredients']\n",
    "        responses.append(response)\n",
    "    return responses\n",
    "    \n",
    "responses = searchFromList()"
   ]
  },
  {
   "cell_type": "code",
   "execution_count": 18,
   "metadata": {
    "collapsed": false
   },
   "outputs": [
    {
     "name": "stdout",
     "output_type": "stream",
     "text": [
      "[u'flour', u'pizza doughs', u'canned tomatoes', u'low-fat mozzarella cheese', u'basil leaves', u'salt', u'olive oil']\n",
      "\n",
      "[u'canola oil', u'finely chopped onion', u'chopped celery', u'diced tomatoes', u'water', u'brown sugar', u'salt', u'dried basil', u'dried oregano', u'ground pepper']\n",
      "\n",
      "[u'yellow onion', u'beef broth', u'baguette', u'bay leaf', u'gruyere cheese', u'unsalted butter', u'all-purpose flour', u'extra-virgin olive oil', u'balsamic vinegar', u'worcestershire sauce', u'kosher salt', u'freshly ground pepper', u'chives']\n",
      "\n",
      "[u'sun-dried tomatoes', u'chicken breasts', u'garlic cloves', u'salt', u'paprika', u'half & half', u'asiago', u'penne pasta', u'fresh spinach']\n",
      "\n",
      "[u'lean ground beef', u'whole wheat spaghetti', u'marinara sauce', u'chopped onion', u'carrots', u'chopped celery', u'minced garlic', u'oregano', u'extra-virgin olive oil', u'sea salt', u'black pepper']\n",
      "\n"
     ]
    }
   ],
   "source": [
    "for response in responses:\n",
    "    print response['matches'][0]['ingredients']\n",
    "    print "
   ]
  },
  {
   "cell_type": "code",
   "execution_count": null,
   "metadata": {
    "collapsed": true
   },
   "outputs": [],
   "source": []
  }
 ],
 "metadata": {
  "anaconda-cloud": {},
  "kernelspec": {
   "display_name": "Python 2",
   "language": "python",
   "name": "python2"
  },
  "language_info": {
   "codemirror_mode": {
    "name": "ipython",
    "version": 2
   },
   "file_extension": ".py",
   "mimetype": "text/x-python",
   "name": "python",
   "nbconvert_exporter": "python",
   "pygments_lexer": "ipython2",
   "version": "2.7.12"
  }
 },
 "nbformat": 4,
 "nbformat_minor": 1
}
