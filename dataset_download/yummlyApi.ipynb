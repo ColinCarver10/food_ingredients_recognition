{
 "cells": [
  {
   "cell_type": "code",
   "execution_count": 5,
   "metadata": {
    "collapsed": false
   },
   "outputs": [],
   "source": [
    "import json, requests\n",
    "import Levenshtein as lev\n",
    "import unicodedata\n",
    "import pandas as pd"
   ]
  },
  {
   "cell_type": "code",
   "execution_count": 6,
   "metadata": {
    "collapsed": false
   },
   "outputs": [],
   "source": [
    "\n",
    "ID = \"aaf20ac1\"\n",
    "key = \"7bd88c15c64569da8de3c414ace8d236\"\n",
    "\n",
    "baseURL = \"http://api.yummly.com/v1/api/recipes?_app_id=\"+ID+\"&_app_key=\"+key+\"&q=\"\n",
    "baseURLGet = \"http://api.yummly.com/v1/api/recipe/@?_app_id=\"+ID+\"&_app_key=\"+key"
   ]
  },
  {
   "cell_type": "code",
   "execution_count": 16,
   "metadata": {
    "collapsed": false
   },
   "outputs": [],
   "source": [
    "def convertName(name):\n",
    "    converted = unicodedata.normalize('NFKD', name).encode('ascii','ignore')\n",
    "    return converted.lower()\n",
    "\n",
    "def bestMatch(query, response):\n",
    "    tmpQuery = query.lower()\n",
    "    levDistances = [lev.distance(convertName(match[\"recipeName\"]), tmpQuery) for match in response[\"matches\"]]\n",
    "    return response[\"matches\"][levDistances.index(min(levDistances))]\n",
    "\n",
    "def getRecipe(candidateID):\n",
    "    url = baseURLGet.replace(\"@\", candidateID)\n",
    "    response = json.loads(requests.get(url).text)\n",
    "    return response\n",
    "\n",
    "def buildJson(original, searchResponse, recipeResponse):\n",
    "    jsonBuilder = {}\n",
    "\n",
    "    jsonBuilder[\"RecipeURL\"] = recipeResponse[\"source\"][\"sourceRecipeUrl\"]\n",
    "    jsonBuilder[\"CleanIngredients\"] = searchResponse[\"ingredients\"]\n",
    "    jsonBuilder[\"RawIngredients\"] = recipeResponse[\"ingredientLines\"]\n",
    "    jsonBuilder[\"RecipeName\"] = searchResponse[\"recipeName\"]\n",
    "    jsonBuilder[\"FoodName\"] = original\n",
    "    return jsonBuilder\n",
    "    "
   ]
  },
  {
   "cell_type": "code",
   "execution_count": 21,
   "metadata": {
    "collapsed": false
   },
   "outputs": [
    {
     "name": "stdout",
     "output_type": "stream",
     "text": [
      "query:  pizza margarita\n",
      "query:  tomato soup\n",
      "query:  onion soup\n",
      "query:  chicken with spinachs\n",
      "query:  spaghetti bolognese\n",
      "query:  NOTFOUNDPLS\n",
      "query:  ASDASDjashdjshdj\n",
      "['NOTFOUNDPLS', 'ASDASDjashdjshdj']\n"
     ]
    }
   ],
   "source": [
    "def searchFromList():\n",
    "    responses = []\n",
    "    notFound = []\n",
    "    foodList = pd.read_csv(\"dummyFood.csv\", sep=',')\n",
    "    for query in foodList['FoodName']:\n",
    "        print \"query: \", query\n",
    "        params = query.lower().replace(\" \", \"+\")\n",
    "        url = baseURL+params+\"\"\n",
    "        response = json.loads(requests.get(url).text)\n",
    "        if not response[\"matches\"]:\n",
    "            \"Hello no matches :3\"\n",
    "            notFound.append(query)\n",
    "    \n",
    "        else:\n",
    "            candidate = bestMatch(query, response)\n",
    "            candidateID = candidate[\"id\"]\n",
    "            recipeResponse = getRecipe(candidateID)\n",
    "            builtJson = buildJson(query, candidate, recipeResponse)\n",
    "            responses.append(builtJson)\n",
    "            \n",
    "    data = json.dumps(responses)\n",
    "    with open('recipesData.json', 'w') as f:\n",
    "        json.dump(responses, f)\n",
    "    with open('notFound.json', 'w') as f:\n",
    "        json.dump(notFound, f)\n",
    "    \n",
    "    return responses, notFound\n",
    "    \n",
    "responses, notFound = searchFromList()\n",
    "\n",
    "#print responses\n",
    "#print notFound"
   ]
  },
  {
   "cell_type": "code",
   "execution_count": 18,
   "metadata": {
    "collapsed": false
   },
   "outputs": [
    {
     "name": "stdout",
     "output_type": "stream",
     "text": [
      "[u'flour', u'pizza doughs', u'canned tomatoes', u'low-fat mozzarella cheese', u'basil leaves', u'salt', u'olive oil']\n",
      "\n",
      "[u'canola oil', u'finely chopped onion', u'chopped celery', u'diced tomatoes', u'water', u'brown sugar', u'salt', u'dried basil', u'dried oregano', u'ground pepper']\n",
      "\n",
      "[u'yellow onion', u'beef broth', u'baguette', u'bay leaf', u'gruyere cheese', u'unsalted butter', u'all-purpose flour', u'extra-virgin olive oil', u'balsamic vinegar', u'worcestershire sauce', u'kosher salt', u'freshly ground pepper', u'chives']\n",
      "\n",
      "[u'sun-dried tomatoes', u'chicken breasts', u'garlic cloves', u'salt', u'paprika', u'half & half', u'asiago', u'penne pasta', u'fresh spinach']\n",
      "\n",
      "[u'lean ground beef', u'whole wheat spaghetti', u'marinara sauce', u'chopped onion', u'carrots', u'chopped celery', u'minced garlic', u'oregano', u'extra-virgin olive oil', u'sea salt', u'black pepper']\n",
      "\n"
     ]
    }
   ],
   "source": []
  },
  {
   "cell_type": "code",
   "execution_count": 14,
   "metadata": {
    "collapsed": true
   },
   "outputs": [],
   "source": []
  },
  {
   "cell_type": "code",
   "execution_count": null,
   "metadata": {
    "collapsed": true
   },
   "outputs": [],
   "source": []
  }
 ],
 "metadata": {
  "anaconda-cloud": {},
  "kernelspec": {
   "display_name": "Python [default]",
   "language": "python",
   "name": "python2"
  },
  "language_info": {
   "codemirror_mode": {
    "name": "ipython",
    "version": 2
   },
   "file_extension": ".py",
   "mimetype": "text/x-python",
   "name": "python",
   "nbconvert_exporter": "python",
   "pygments_lexer": "ipython2",
   "version": "2.7.12"
  }
 },
 "nbformat": 4,
 "nbformat_minor": 1
}
